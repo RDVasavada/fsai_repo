{
 "cells": [
  {
   "cell_type": "code",
   "execution_count": null,
   "metadata": {
    "collapsed": false
   },
   "outputs": [],
   "source": [
    "import requests\n",
    "from bs4 import BeautifulSoup\n",
    "\n",
    "r = requests.get(\"https://eresearch.fidelity.com/eresearch/evaluate/news/basicNews.jhtml?symbols=AAPL&anchor=1_201609160852MRKTWTCHNEWS_SVC000179\")\n",
    "soup = BeautifulSoup(r.text, \"html.parser\")\n",
    "links = soup.find_all(\"a\")\n",
    "for link in links:\n",
    "    try:\n",
    "        if str(link['href'])[8:18] == 'ch/evaluat':\n",
    "            req = requests.get(\"https://eresearch.fidelity.com\" + str(link['href']))\n",
    "            newsoup = BeautifulSoup(req.text, \"html.parser\")\n",
    "            newtext = newsoup.find_all(\"div\",id='articleContainer')\n",
    "            for text in newtext:\n",
    "                print text.text\n",
    "            newlink = newsoup.find(\"div\",class_=\"byline\")\n",
    "            print(newlink)\n",
    "    except KeyError:\n",
    "        print(\"link\")\n"
   ]
  },
  {
   "cell_type": "code",
   "execution_count": null,
   "metadata": {
    "collapsed": true
   },
   "outputs": [],
   "source": []
  }
 ],
 "metadata": {
  "anaconda-cloud": {},
  "kernelspec": {
   "display_name": "Python [Root]",
   "language": "python",
   "name": "Python [Root]"
  },
  "language_info": {
   "codemirror_mode": {
    "name": "ipython",
    "version": 2
   },
   "file_extension": ".py",
   "mimetype": "text/x-python",
   "name": "python",
   "nbconvert_exporter": "python",
   "pygments_lexer": "ipython2",
   "version": "2.7.12"
  }
 },
 "nbformat": 4,
 "nbformat_minor": 0
}
